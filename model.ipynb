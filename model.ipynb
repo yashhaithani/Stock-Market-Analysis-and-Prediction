{
 "cells": [
  {
   "cell_type": "code",
   "execution_count": 1,
   "id": "e0c3f292",
   "metadata": {},
   "outputs": [],
   "source": [
    "import pandas as pd\n",
    "import numpy as np"
   ]
  },
  {
   "cell_type": "code",
   "execution_count": 2,
   "id": "af4bf829",
   "metadata": {
    "scrolled": true
   },
   "outputs": [
    {
     "data": {
      "text/html": [
       "<div>\n",
       "<style scoped>\n",
       "    .dataframe tbody tr th:only-of-type {\n",
       "        vertical-align: middle;\n",
       "    }\n",
       "\n",
       "    .dataframe tbody tr th {\n",
       "        vertical-align: top;\n",
       "    }\n",
       "\n",
       "    .dataframe thead th {\n",
       "        text-align: right;\n",
       "    }\n",
       "</style>\n",
       "<table border=\"1\" class=\"dataframe\">\n",
       "  <thead>\n",
       "    <tr style=\"text-align: right;\">\n",
       "      <th></th>\n",
       "      <th>Date</th>\n",
       "      <th>Symbol</th>\n",
       "      <th>Open</th>\n",
       "      <th>High</th>\n",
       "      <th>Low</th>\n",
       "      <th>Last</th>\n",
       "      <th>Close</th>\n",
       "      <th>Volume</th>\n",
       "      <th>Turnover</th>\n",
       "      <th>%Deliverable</th>\n",
       "    </tr>\n",
       "  </thead>\n",
       "  <tbody>\n",
       "    <tr>\n",
       "      <th>0</th>\n",
       "      <td>2007-11-27</td>\n",
       "      <td>MUNDRAPORT</td>\n",
       "      <td>770.00</td>\n",
       "      <td>1050.00</td>\n",
       "      <td>770.0</td>\n",
       "      <td>959.0</td>\n",
       "      <td>962.90</td>\n",
       "      <td>27294366</td>\n",
       "      <td>2.687719e+15</td>\n",
       "      <td>0.3612</td>\n",
       "    </tr>\n",
       "    <tr>\n",
       "      <th>1</th>\n",
       "      <td>2007-11-28</td>\n",
       "      <td>MUNDRAPORT</td>\n",
       "      <td>984.00</td>\n",
       "      <td>990.00</td>\n",
       "      <td>874.0</td>\n",
       "      <td>885.0</td>\n",
       "      <td>893.90</td>\n",
       "      <td>4581338</td>\n",
       "      <td>4.312765e+14</td>\n",
       "      <td>0.3172</td>\n",
       "    </tr>\n",
       "    <tr>\n",
       "      <th>2</th>\n",
       "      <td>2007-11-29</td>\n",
       "      <td>MUNDRAPORT</td>\n",
       "      <td>909.00</td>\n",
       "      <td>914.75</td>\n",
       "      <td>841.0</td>\n",
       "      <td>887.0</td>\n",
       "      <td>884.20</td>\n",
       "      <td>5124121</td>\n",
       "      <td>4.550658e+14</td>\n",
       "      <td>0.2088</td>\n",
       "    </tr>\n",
       "    <tr>\n",
       "      <th>3</th>\n",
       "      <td>2007-11-30</td>\n",
       "      <td>MUNDRAPORT</td>\n",
       "      <td>890.00</td>\n",
       "      <td>958.00</td>\n",
       "      <td>890.0</td>\n",
       "      <td>929.0</td>\n",
       "      <td>921.55</td>\n",
       "      <td>4609762</td>\n",
       "      <td>4.283257e+14</td>\n",
       "      <td>0.2735</td>\n",
       "    </tr>\n",
       "    <tr>\n",
       "      <th>4</th>\n",
       "      <td>2007-12-03</td>\n",
       "      <td>MUNDRAPORT</td>\n",
       "      <td>939.75</td>\n",
       "      <td>995.00</td>\n",
       "      <td>922.0</td>\n",
       "      <td>980.0</td>\n",
       "      <td>969.30</td>\n",
       "      <td>2977470</td>\n",
       "      <td>2.875200e+14</td>\n",
       "      <td>0.2741</td>\n",
       "    </tr>\n",
       "  </tbody>\n",
       "</table>\n",
       "</div>"
      ],
      "text/plain": [
       "         Date      Symbol    Open     High    Low   Last   Close    Volume  \\\n",
       "0  2007-11-27  MUNDRAPORT  770.00  1050.00  770.0  959.0  962.90  27294366   \n",
       "1  2007-11-28  MUNDRAPORT  984.00   990.00  874.0  885.0  893.90   4581338   \n",
       "2  2007-11-29  MUNDRAPORT  909.00   914.75  841.0  887.0  884.20   5124121   \n",
       "3  2007-11-30  MUNDRAPORT  890.00   958.00  890.0  929.0  921.55   4609762   \n",
       "4  2007-12-03  MUNDRAPORT  939.75   995.00  922.0  980.0  969.30   2977470   \n",
       "\n",
       "       Turnover  %Deliverable  \n",
       "0  2.687719e+15        0.3612  \n",
       "1  4.312765e+14        0.3172  \n",
       "2  4.550658e+14        0.2088  \n",
       "3  4.283257e+14        0.2735  \n",
       "4  2.875200e+14        0.2741  "
      ]
     },
     "execution_count": 2,
     "metadata": {},
     "output_type": "execute_result"
    }
   ],
   "source": [
    "train_data = pd.read_csv('2006-2019')\n",
    "train_data.head()"
   ]
  },
  {
   "cell_type": "code",
   "execution_count": 3,
   "id": "28a3b5c0",
   "metadata": {},
   "outputs": [
    {
     "data": {
      "text/html": [
       "<div>\n",
       "<style scoped>\n",
       "    .dataframe tbody tr th:only-of-type {\n",
       "        vertical-align: middle;\n",
       "    }\n",
       "\n",
       "    .dataframe tbody tr th {\n",
       "        vertical-align: top;\n",
       "    }\n",
       "\n",
       "    .dataframe thead th {\n",
       "        text-align: right;\n",
       "    }\n",
       "</style>\n",
       "<table border=\"1\" class=\"dataframe\">\n",
       "  <thead>\n",
       "    <tr style=\"text-align: right;\">\n",
       "      <th></th>\n",
       "      <th>Date</th>\n",
       "      <th>Symbol</th>\n",
       "      <th>Open</th>\n",
       "      <th>High</th>\n",
       "      <th>Low</th>\n",
       "      <th>Last</th>\n",
       "      <th>Close</th>\n",
       "      <th>Volume</th>\n",
       "      <th>Turnover</th>\n",
       "      <th>%Deliverable</th>\n",
       "    </tr>\n",
       "  </thead>\n",
       "  <tbody>\n",
       "    <tr>\n",
       "      <th>0</th>\n",
       "      <td>2020-01-01</td>\n",
       "      <td>ADANIPORTS</td>\n",
       "      <td>368.00</td>\n",
       "      <td>379.25</td>\n",
       "      <td>366.00</td>\n",
       "      <td>377.45</td>\n",
       "      <td>377.65</td>\n",
       "      <td>11377167</td>\n",
       "      <td>4.274459e+14</td>\n",
       "      <td>0.1016</td>\n",
       "    </tr>\n",
       "    <tr>\n",
       "      <th>1</th>\n",
       "      <td>2020-01-02</td>\n",
       "      <td>ADANIPORTS</td>\n",
       "      <td>377.95</td>\n",
       "      <td>384.70</td>\n",
       "      <td>376.50</td>\n",
       "      <td>382.50</td>\n",
       "      <td>383.15</td>\n",
       "      <td>5919760</td>\n",
       "      <td>2.259337e+14</td>\n",
       "      <td>0.1811</td>\n",
       "    </tr>\n",
       "    <tr>\n",
       "      <th>2</th>\n",
       "      <td>2020-01-03</td>\n",
       "      <td>ADANIPORTS</td>\n",
       "      <td>382.70</td>\n",
       "      <td>384.35</td>\n",
       "      <td>379.20</td>\n",
       "      <td>382.00</td>\n",
       "      <td>382.50</td>\n",
       "      <td>3684824</td>\n",
       "      <td>1.407636e+14</td>\n",
       "      <td>0.2939</td>\n",
       "    </tr>\n",
       "    <tr>\n",
       "      <th>3</th>\n",
       "      <td>2020-01-06</td>\n",
       "      <td>ADANIPORTS</td>\n",
       "      <td>388.00</td>\n",
       "      <td>388.00</td>\n",
       "      <td>374.75</td>\n",
       "      <td>380.00</td>\n",
       "      <td>380.20</td>\n",
       "      <td>12482680</td>\n",
       "      <td>4.765071e+14</td>\n",
       "      <td>0.1799</td>\n",
       "    </tr>\n",
       "    <tr>\n",
       "      <th>4</th>\n",
       "      <td>2020-01-07</td>\n",
       "      <td>ADANIPORTS</td>\n",
       "      <td>384.05</td>\n",
       "      <td>389.75</td>\n",
       "      <td>382.40</td>\n",
       "      <td>384.05</td>\n",
       "      <td>384.80</td>\n",
       "      <td>8091465</td>\n",
       "      <td>3.119178e+14</td>\n",
       "      <td>0.3743</td>\n",
       "    </tr>\n",
       "  </tbody>\n",
       "</table>\n",
       "</div>"
      ],
      "text/plain": [
       "         Date      Symbol    Open    High     Low    Last   Close    Volume  \\\n",
       "0  2020-01-01  ADANIPORTS  368.00  379.25  366.00  377.45  377.65  11377167   \n",
       "1  2020-01-02  ADANIPORTS  377.95  384.70  376.50  382.50  383.15   5919760   \n",
       "2  2020-01-03  ADANIPORTS  382.70  384.35  379.20  382.00  382.50   3684824   \n",
       "3  2020-01-06  ADANIPORTS  388.00  388.00  374.75  380.00  380.20  12482680   \n",
       "4  2020-01-07  ADANIPORTS  384.05  389.75  382.40  384.05  384.80   8091465   \n",
       "\n",
       "       Turnover  %Deliverable  \n",
       "0  4.274459e+14        0.1016  \n",
       "1  2.259337e+14        0.1811  \n",
       "2  1.407636e+14        0.2939  \n",
       "3  4.765071e+14        0.1799  \n",
       "4  3.119178e+14        0.3743  "
      ]
     },
     "execution_count": 3,
     "metadata": {},
     "output_type": "execute_result"
    }
   ],
   "source": [
    "test_data = pd.read_csv('2020-2021')\n",
    "test_data.head()"
   ]
  },
  {
   "cell_type": "code",
   "execution_count": 4,
   "id": "afb17eef",
   "metadata": {},
   "outputs": [],
   "source": [
    "def to_int_labels(df):\n",
    "    labels = df[\"Symbol\"].unique()\n",
    "    \n",
    "    df[\"Symbol\"] = df[\"Symbol\"].replace(labels, [i for i in range(len(labels))])\n",
    "\n",
    "    return df\n",
    "\n",
    "\n",
    "def add_gain_values(df):\n",
    "    df[\"Gain Value\"] = df[\"Close\"] / df[\"Open\"]\n",
    "    \n",
    "    return df"
   ]
  },
  {
   "cell_type": "code",
   "execution_count": 5,
   "id": "ec189e6d",
   "metadata": {},
   "outputs": [
    {
     "data": {
      "text/html": [
       "<div>\n",
       "<style scoped>\n",
       "    .dataframe tbody tr th:only-of-type {\n",
       "        vertical-align: middle;\n",
       "    }\n",
       "\n",
       "    .dataframe tbody tr th {\n",
       "        vertical-align: top;\n",
       "    }\n",
       "\n",
       "    .dataframe thead th {\n",
       "        text-align: right;\n",
       "    }\n",
       "</style>\n",
       "<table border=\"1\" class=\"dataframe\">\n",
       "  <thead>\n",
       "    <tr style=\"text-align: right;\">\n",
       "      <th></th>\n",
       "      <th>Date</th>\n",
       "      <th>Symbol</th>\n",
       "      <th>Open</th>\n",
       "      <th>High</th>\n",
       "      <th>Low</th>\n",
       "      <th>Last</th>\n",
       "      <th>Close</th>\n",
       "      <th>Volume</th>\n",
       "      <th>Turnover</th>\n",
       "      <th>%Deliverable</th>\n",
       "      <th>Gain Value</th>\n",
       "    </tr>\n",
       "  </thead>\n",
       "  <tbody>\n",
       "    <tr>\n",
       "      <th>0</th>\n",
       "      <td>2020-01-01</td>\n",
       "      <td>0</td>\n",
       "      <td>368.00</td>\n",
       "      <td>379.25</td>\n",
       "      <td>366.00</td>\n",
       "      <td>377.45</td>\n",
       "      <td>377.65</td>\n",
       "      <td>11377167</td>\n",
       "      <td>4.274459e+14</td>\n",
       "      <td>0.1016</td>\n",
       "      <td>1.026223</td>\n",
       "    </tr>\n",
       "    <tr>\n",
       "      <th>1</th>\n",
       "      <td>2020-01-02</td>\n",
       "      <td>0</td>\n",
       "      <td>377.95</td>\n",
       "      <td>384.70</td>\n",
       "      <td>376.50</td>\n",
       "      <td>382.50</td>\n",
       "      <td>383.15</td>\n",
       "      <td>5919760</td>\n",
       "      <td>2.259337e+14</td>\n",
       "      <td>0.1811</td>\n",
       "      <td>1.013758</td>\n",
       "    </tr>\n",
       "    <tr>\n",
       "      <th>2</th>\n",
       "      <td>2020-01-03</td>\n",
       "      <td>0</td>\n",
       "      <td>382.70</td>\n",
       "      <td>384.35</td>\n",
       "      <td>379.20</td>\n",
       "      <td>382.00</td>\n",
       "      <td>382.50</td>\n",
       "      <td>3684824</td>\n",
       "      <td>1.407636e+14</td>\n",
       "      <td>0.2939</td>\n",
       "      <td>0.999477</td>\n",
       "    </tr>\n",
       "    <tr>\n",
       "      <th>3</th>\n",
       "      <td>2020-01-06</td>\n",
       "      <td>0</td>\n",
       "      <td>388.00</td>\n",
       "      <td>388.00</td>\n",
       "      <td>374.75</td>\n",
       "      <td>380.00</td>\n",
       "      <td>380.20</td>\n",
       "      <td>12482680</td>\n",
       "      <td>4.765071e+14</td>\n",
       "      <td>0.1799</td>\n",
       "      <td>0.979897</td>\n",
       "    </tr>\n",
       "    <tr>\n",
       "      <th>4</th>\n",
       "      <td>2020-01-07</td>\n",
       "      <td>0</td>\n",
       "      <td>384.05</td>\n",
       "      <td>389.75</td>\n",
       "      <td>382.40</td>\n",
       "      <td>384.05</td>\n",
       "      <td>384.80</td>\n",
       "      <td>8091465</td>\n",
       "      <td>3.119178e+14</td>\n",
       "      <td>0.3743</td>\n",
       "      <td>1.001953</td>\n",
       "    </tr>\n",
       "  </tbody>\n",
       "</table>\n",
       "</div>"
      ],
      "text/plain": [
       "         Date  Symbol    Open    High     Low    Last   Close    Volume  \\\n",
       "0  2020-01-01       0  368.00  379.25  366.00  377.45  377.65  11377167   \n",
       "1  2020-01-02       0  377.95  384.70  376.50  382.50  383.15   5919760   \n",
       "2  2020-01-03       0  382.70  384.35  379.20  382.00  382.50   3684824   \n",
       "3  2020-01-06       0  388.00  388.00  374.75  380.00  380.20  12482680   \n",
       "4  2020-01-07       0  384.05  389.75  382.40  384.05  384.80   8091465   \n",
       "\n",
       "       Turnover  %Deliverable  Gain Value  \n",
       "0  4.274459e+14        0.1016    1.026223  \n",
       "1  2.259337e+14        0.1811    1.013758  \n",
       "2  1.407636e+14        0.2939    0.999477  \n",
       "3  4.765071e+14        0.1799    0.979897  \n",
       "4  3.119178e+14        0.3743    1.001953  "
      ]
     },
     "execution_count": 5,
     "metadata": {},
     "output_type": "execute_result"
    }
   ],
   "source": [
    "train_data = to_int_labels(train_data)\n",
    "test_data = to_int_labels(test_data)\n",
    "\n",
    "train_data = add_gain_values(train_data)\n",
    "test_data = add_gain_values(test_data)\n",
    "\n",
    "test_data.head()"
   ]
  },
  {
   "cell_type": "code",
   "execution_count": 6,
   "id": "7352e725",
   "metadata": {},
   "outputs": [
    {
     "data": {
      "text/plain": [
       "((36637, 2), (36637, 2))"
      ]
     },
     "execution_count": 6,
     "metadata": {},
     "output_type": "execute_result"
    }
   ],
   "source": [
    "X_train = train_data[[\"Open\", \"Gain Value\"]].to_numpy()\n",
    "y_train = train_data[[\"Symbol\", \"Close\"]].to_numpy()\n",
    "\n",
    "X_train.shape, y_train.shape"
   ]
  },
  {
   "cell_type": "code",
   "execution_count": 7,
   "id": "bf89d1ea",
   "metadata": {},
   "outputs": [
    {
     "data": {
      "text/plain": [
       "((3651, 2), (3651, 2))"
      ]
     },
     "execution_count": 7,
     "metadata": {},
     "output_type": "execute_result"
    }
   ],
   "source": [
    "X_test = test_data[[\"Open\", \"Gain Value\"]].to_numpy()\n",
    "y_test = test_data[[\"Symbol\", \"Close\"]].to_numpy()\n",
    "\n",
    "X_test.shape, y_test.shape"
   ]
  },
  {
   "cell_type": "code",
   "execution_count": 8,
   "id": "256e9cd6",
   "metadata": {},
   "outputs": [],
   "source": [
    "from math import sqrt\n",
    "\n",
    "\n",
    "def distance(X1, X2):\n",
    "    dist = X1 - X2\n",
    "    sq = (X1 - X2) ** 2\n",
    "\n",
    "    return sqrt(sum(sq))"
   ]
  },
  {
   "cell_type": "code",
   "execution_count": 9,
   "id": "43b5a929",
   "metadata": {},
   "outputs": [],
   "source": [
    "def sorter(item):\n",
    "    return item[0]\n",
    "\n",
    "\n",
    "def find_topk(dist_mat, k):\n",
    "    re = sorted(dist_mat, key=sorter)\n",
    "    \n",
    "    top_classes = []\n",
    "    \n",
    "    for i in range(len(re)):\n",
    "        label = y_train[re[i][1]]\n",
    "        \n",
    "        if k != 0 and label[0] not in top_classes:\n",
    "            top_classes.append(label[0])\n",
    "            k -= 1\n",
    "            \n",
    "        elif k == 0:\n",
    "            break\n",
    "            \n",
    "    return top_classes\n",
    "\n",
    "    \n",
    "def knn(X):\n",
    "    dist_mat = []\n",
    "\n",
    "    for i in range(len(X_train)):\n",
    "        dist = distance(X_train[i, :], X)\n",
    "        dist_mat.append([dist, i])\n",
    "    \n",
    "    vec = find_topk(dist_mat, 3)\n",
    "\n",
    "    return vec"
   ]
  },
  {
   "cell_type": "code",
   "execution_count": 10,
   "id": "b9aa3c84",
   "metadata": {},
   "outputs": [],
   "source": [
    "feature_cols = [\"Open\", \"High\", \"Last\", \"%Deliverable\"]\n",
    "\n",
    "def query_top_labels(top_labels):\n",
    "    new_df = train_data[train_data[\"Symbol\"].isin(top_labels)]\n",
    "    \n",
    "    X_train_new = new_df[feature_cols].to_numpy()\n",
    "    y_train_new = new_df[\"Close\"].to_numpy()\n",
    "    \n",
    "    return X_train_new, y_train_new"
   ]
  },
  {
   "cell_type": "code",
   "execution_count": 11,
   "id": "2c756746",
   "metadata": {},
   "outputs": [],
   "source": [
    "from sklearn.linear_model import LinearRegression\n",
    "\n",
    "\n",
    "def linearRegression(X_train, y_train, i):    \n",
    "    testing = test_data.loc[i, feature_cols].to_numpy().reshape(-1, 1).T\n",
    "\n",
    "    model = LinearRegression()\n",
    "    model.fit(X_train, y_train)\n",
    "    pred = model.predict(testing)\n",
    "    \n",
    "    return pred"
   ]
  },
  {
   "cell_type": "code",
   "execution_count": 27,
   "id": "43b3b84f",
   "metadata": {},
   "outputs": [],
   "source": [
    "rmse_mat = []\n",
    "preds = []\n",
    "\n",
    "batch_low_limit = 0\n",
    "batch_high_limit = 300\n",
    "\n",
    "for i in range(batch_low_limit, batch_high_limit+1):\n",
    "    top_labels = knn(X_test[i, :])\n",
    "\n",
    "    X_train_new, y_train_new = query_top_labels(top_labels)\n",
    "\n",
    "    pred = linearRegression(X_train_new, y_train_new, i)\n",
    "    preds.append(pred)"
   ]
  },
  {
   "cell_type": "code",
   "execution_count": 28,
   "id": "2e629650",
   "metadata": {},
   "outputs": [
    {
     "data": {
      "image/png": "[encoded data removed]",
      "text/plain": [
       "<Figure size 432x288 with 2 Axes>"
      ]
     },
     "metadata": {
      "needs_background": "light"
     },
     "output_type": "display_data"
    }
   ],
   "source": [
    "from matplotlib import pyplot as plt\n",
    "\n",
    "examples = [i for i in range(batch_low_limit, batch_high_limit+1)]\n",
    "\n",
    "fig, axs = plt.subplots(2)\n",
    "\n",
    "y_temp = y_test[batch_low_limit : batch_high_limit+1]\n",
    "\n",
    "axs[0].plot(y_temp[:, 1])\n",
    "axs[1].plot(preds)\n",
    "plt.show()"
   ]
  },
  {
   "cell_type": "code",
   "execution_count": 29,
   "id": "b23a0ecc",
   "metadata": {},
   "outputs": [
    {
     "data": {
      "image/png": "[encoded data removed]",
      "text/plain": [
       "<Figure size 432x288 with 1 Axes>"
      ]
     },
     "metadata": {
      "needs_background": "light"
     },
     "output_type": "display_data"
    }
   ],
   "source": [
    "y_temp = y_test[batch_low_limit : batch_high_limit+1]\n",
    "\n",
    "plt.plot(examples, y_temp[:, 1])\n",
    "plt.xlabel(\"Testing example no.\")\n",
    "plt.ylabel(\"Closing\")\n",
    "plt.show()"
   ]
  },
  {
   "cell_type": "code",
   "execution_count": 30,
   "id": "67b9b5de",
   "metadata": {},
   "outputs": [
    {
     "data": {
      "image/png": "[encoded data removed]",
      "text/plain": [
       "<Figure size 432x288 with 1 Axes>"
      ]
     },
     "metadata": {
      "needs_background": "light"
     },
     "output_type": "display_data"
    }
   ],
   "source": [
    "plt.plot(examples, preds)\n",
    "plt.xlabel(\"Testing example no.\")\n",
    "plt.ylabel(\"Closing (predicted)\")\n",
    "plt.show()"
   ]
  },
  {
   "cell_type": "code",
   "execution_count": 31,
   "id": "eff4ff63",
   "metadata": {},
   "outputs": [
    {
     "data": {
      "text/plain": [
       "0.9998410824250896"
      ]
     },
     "execution_count": 31,
     "metadata": {},
     "output_type": "execute_result"
    }
   ],
   "source": [
    "from sklearn.metrics import r2_score\n",
    "\n",
    "y_temp = y_test[batch_low_limit : batch_high_limit+1]\n",
    "r2_score(y_temp[:, 1], preds)"
   ]
  },
  {
   "cell_type": "code",
   "execution_count": 33,
   "id": "70cab74e",
   "metadata": {},
   "outputs": [
    {
     "data": {
      "image/png": "[encoded data removed]",
      "text/plain": [
       "<Figure size 432x288 with 1 Axes>"
      ]
     },
     "metadata": {
      "needs_background": "light"
     },
     "output_type": "display_data"
    }
   ],
   "source": [
    "# 563\n",
    "\n",
    "y = np.array(preds) - y_temp[:, 1].reshape((len(preds), 1))\n",
    "plt.plot(y)\n",
    "plt.xlabel(\"Testing example no.\")\n",
    "plt.ylabel(\"Error b/w actual and predicted value\")\n",
    "plt.show()"
   ]
  },
  {
   "cell_type": "markdown",
   "id": "f8d69934",
   "metadata": {},
   "source": [
    "0-300 : 0.9998410824250896\n",
    "301-600 : 0.9999088504958756\n",
    "601-900 : 0.9999709809561002\n",
    "901-1200 : 0.9999946162043326\n",
    "1201-1500 : 0.9994534345692387"
   ]
  }
 ],
 "metadata": {
  "kernelspec": {
   "display_name": "Python 3 (ipykernel)",
   "language": "python",
   "name": "python3"
  },
  "language_info": {
   "codemirror_mode": {
    "name": "ipython",
    "version": 3
   },
   "file_extension": ".py",
   "mimetype": "text/x-python",
   "name": "python",
   "nbconvert_exporter": "python",
   "pygments_lexer": "ipython3",
   "version": "3.8.6"
  }
 },
 "nbformat": 4,
 "nbformat_minor": 5
}
